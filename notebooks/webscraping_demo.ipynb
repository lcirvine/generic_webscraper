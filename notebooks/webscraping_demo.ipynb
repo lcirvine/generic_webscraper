{
 "cells": [
  {
   "cell_type": "markdown",
   "id": "reasonable-smooth",
   "metadata": {},
   "source": [
    "# Import Libraries "
   ]
  },
  {
   "cell_type": "code",
   "execution_count": null,
   "id": "hybrid-toolbox",
   "metadata": {},
   "outputs": [],
   "source": [
    "from selenium import webdriver\n",
    "from bs4 import BeautifulSoup\n",
    "import pandas as pd\n",
    "import numpy as np\n",
    "from ipywidgets import interact\n",
    "\n",
    "opts = webdriver.FirefoxOptions()"
   ]
  },
  {
   "cell_type": "markdown",
   "id": "outer-locator",
   "metadata": {},
   "source": [
    "# Headless?"
   ]
  },
  {
   "cell_type": "code",
   "execution_count": null,
   "id": "successful-liberia",
   "metadata": {},
   "outputs": [],
   "source": [
    "# 'Headless' means that there is now browser window displayed\n",
    "# If you would like to see the browser window, do not exectue this cell\n",
    "\n",
    "opts.headless = True"
   ]
  },
  {
   "cell_type": "markdown",
   "id": "adaptive-algeria",
   "metadata": {},
   "source": [
    "# Create Webdriver"
   ]
  },
  {
   "cell_type": "code",
   "execution_count": null,
   "id": "specific-delaware",
   "metadata": {},
   "outputs": [],
   "source": [
    "driver = webdriver.Firefox(options=opts)"
   ]
  },
  {
   "cell_type": "markdown",
   "id": "overall-flight",
   "metadata": {},
   "source": [
    "# Load the URL"
   ]
  },
  {
   "cell_type": "code",
   "execution_count": null,
   "id": "adverse-championship",
   "metadata": {},
   "outputs": [],
   "source": [
    "url = 'https://live.euronext.com/en/products/fixed-income/esg-bonds'\n",
    "driver.get(url)"
   ]
  },
  {
   "cell_type": "markdown",
   "id": "eastern-hobby",
   "metadata": {},
   "source": [
    "# Parse HTML"
   ]
  },
  {
   "cell_type": "code",
   "execution_count": null,
   "id": "educated-understanding",
   "metadata": {},
   "outputs": [],
   "source": [
    "soup = BeautifulSoup(driver.page_source, 'html.parser')"
   ]
  },
  {
   "cell_type": "markdown",
   "id": "brave-absence",
   "metadata": {},
   "source": [
    "# Locate Table"
   ]
  },
  {
   "cell_type": "code",
   "execution_count": null,
   "id": "institutional-shoot",
   "metadata": {},
   "outputs": [],
   "source": [
    "# if you do not know the table attributes or table number\n",
    "# run this section to print all the attributes for each 'table' element on the page\n",
    "\n",
    "for i, tbl in enumerate(soup.find_all('table')):\n",
    "    print(f\"{i} - {tbl.attrs}\")"
   ]
  },
  {
   "cell_type": "markdown",
   "id": "alternative-secretary",
   "metadata": {},
   "source": [
    "# Scrape Table Data"
   ]
  },
  {
   "cell_type": "code",
   "execution_count": null,
   "id": "affecting-chaos",
   "metadata": {},
   "outputs": [],
   "source": [
    "# find the first 'table' element\n",
    "table = soup.find('table')\n",
    "\n",
    "# find the 3rd 'table' element\n",
    "# tables = soup.find_all('table')\n",
    "# table = tables[2]\n",
    "\n",
    "# find a table with specific attributes\n",
    "# table = soup.find('table', attrs={'class': 'dataTable'})\n",
    "\n",
    "table_data = []\n",
    "\n",
    "# tables typically use 'tr' for table row and 'td' for table data or cell\n",
    "\n",
    "for row in table.find_all('tr'):\n",
    "    cells = [c.text.strip() for c in row.find_all('td')]\n",
    "    for link in row.find_all('a'):\n",
    "        cells.append(link['href'])\n",
    "    if len(cells) > 0:\n",
    "        table_data.append(cells)\n",
    "\n",
    "print(f\"{len(table_data)} rows found in webpage\")"
   ]
  },
  {
   "cell_type": "markdown",
   "id": "common-product",
   "metadata": {},
   "source": [
    "# Create DataFrame"
   ]
  },
  {
   "cell_type": "code",
   "execution_count": null,
   "id": "random-hamilton",
   "metadata": {},
   "outputs": [],
   "source": [
    "df = pd.DataFrame(table_data)\n",
    "df"
   ]
  },
  {
   "cell_type": "markdown",
   "id": "skilled-thought",
   "metadata": {},
   "source": [
    "# Clean Up"
   ]
  },
  {
   "cell_type": "code",
   "execution_count": null,
   "id": "synthetic-syntax",
   "metadata": {},
   "outputs": [],
   "source": [
    "df.drop(axis=0, index=0, inplace=True)\n",
    "df"
   ]
  },
  {
   "cell_type": "code",
   "execution_count": null,
   "id": "secondary-rugby",
   "metadata": {},
   "outputs": [],
   "source": [
    "df.drop(columns=8, inplace=True)\n",
    "df"
   ]
  },
  {
   "cell_type": "markdown",
   "id": "possible-papua",
   "metadata": {},
   "source": [
    "# List Columns"
   ]
  },
  {
   "cell_type": "code",
   "execution_count": null,
   "id": "temporal-reading",
   "metadata": {},
   "outputs": [],
   "source": [
    "# get columns from table headers (usuall element 'th')\n",
    "cols = [c.text.strip() for c in table.find_all('th')]\n",
    "\n",
    "# supply a list of column names \n",
    "# cols = ['column_1', 'column_2', 'column_3']\n",
    "\n",
    "cols"
   ]
  },
  {
   "cell_type": "code",
   "execution_count": null,
   "id": "yellow-variable",
   "metadata": {},
   "outputs": [],
   "source": [
    "cols = cols[:7]\n",
    "cols.extend(['Document Type', 'Document Link'])\n",
    "cols"
   ]
  },
  {
   "cell_type": "markdown",
   "id": "planned-diary",
   "metadata": {},
   "source": [
    "# Add Columns to DataFrame"
   ]
  },
  {
   "cell_type": "code",
   "execution_count": null,
   "id": "seasonal-migration",
   "metadata": {},
   "outputs": [],
   "source": [
    "# checking to make sure we have the same number of column names as columns in the table\n",
    "# then adding column names to the dataframe \n",
    "if len(cols) == len(df.columns):\n",
    "    df.columns = cols\n",
    "df"
   ]
  },
  {
   "cell_type": "markdown",
   "id": "russian-local",
   "metadata": {},
   "source": [
    "# Formatting"
   ]
  },
  {
   "cell_type": "code",
   "execution_count": null,
   "id": "local-constitutional",
   "metadata": {},
   "outputs": [],
   "source": [
    "df['Listing Date'] = pd.to_datetime(df['Listing Date'], errors='coerce', dayfirst=True)\n",
    "df"
   ]
  },
  {
   "cell_type": "code",
   "execution_count": null,
   "id": "brilliant-turkish",
   "metadata": {},
   "outputs": [],
   "source": [
    "df['Nom. (mm)'] = df['Nom. (mm)'].replace(',', '', regex=True)\n",
    "df['Nom. (mm)'] = df['Nom. (mm)'].replace('\\s', '', regex=True)\n",
    "df['Nom. (mm)'] = pd.to_numeric(df['Nom. (mm)'])\n",
    "df"
   ]
  },
  {
   "cell_type": "code",
   "execution_count": null,
   "id": "liberal-venue",
   "metadata": {},
   "outputs": [],
   "source": [
    "df.loc[df['Document Type'] == 'Documents', 'Document Link'] = 'https://live.euronext.com/' + df['Document Link']\n",
    "df"
   ]
  },
  {
   "cell_type": "code",
   "execution_count": null,
   "id": "verbal-battlefield",
   "metadata": {},
   "outputs": [],
   "source": [
    "df.drop(columns='Document Type', inplace=True)\n",
    "df"
   ]
  },
  {
   "cell_type": "markdown",
   "id": "increasing-leadership",
   "metadata": {},
   "source": [
    "# Save DataFrame"
   ]
  },
  {
   "cell_type": "code",
   "execution_count": null,
   "id": "recent-census",
   "metadata": {},
   "outputs": [],
   "source": [
    "# data frames can be saved as many different formats\n",
    "# for example, we could also use df.to_excel() to save as an excel spreadsheet\n",
    "# saving the data here as a CSV\n",
    "\n",
    "file_name = 'Euronext ESG Webscraping Demo.csv'\n",
    "df.to_csv(file_name, index=False, encoding='utf-8-sig')"
   ]
  },
  {
   "cell_type": "markdown",
   "id": "blessed-shopper",
   "metadata": {},
   "source": [
    "# Closing Webdriver"
   ]
  },
  {
   "cell_type": "code",
   "execution_count": null,
   "id": "south-warner",
   "metadata": {},
   "outputs": [],
   "source": [
    "# do not forget to close the browser window!\n",
    "# this could be done at any time after we've parsed the data we need from the webpage\n",
    "\n",
    "driver.close()"
   ]
  }
 ],
 "metadata": {
  "kernelspec": {
   "display_name": "Python 3",
   "language": "python",
   "name": "python3"
  },
  "language_info": {
   "codemirror_mode": {
    "name": "ipython",
    "version": 3
   },
   "file_extension": ".py",
   "mimetype": "text/x-python",
   "name": "python",
   "nbconvert_exporter": "python",
   "pygments_lexer": "ipython3",
   "version": "3.7.3"
  },
  "varInspector": {
   "cols": {
    "lenName": 16,
    "lenType": 16,
    "lenVar": 40
   },
   "kernels_config": {
    "python": {
     "delete_cmd_postfix": "",
     "delete_cmd_prefix": "del ",
     "library": "var_list.py",
     "varRefreshCmd": "print(var_dic_list())"
    },
    "r": {
     "delete_cmd_postfix": ") ",
     "delete_cmd_prefix": "rm(",
     "library": "var_list.r",
     "varRefreshCmd": "cat(var_dic_list()) "
    }
   },
   "position": {
    "height": "455.844px",
    "left": "738px",
    "right": "20px",
    "top": "48px",
    "width": "800px"
   },
   "types_to_exclude": [
    "module",
    "function",
    "builtin_function_or_method",
    "instance",
    "_Feature"
   ],
   "window_display": false
  }
 },
 "nbformat": 4,
 "nbformat_minor": 5
}
