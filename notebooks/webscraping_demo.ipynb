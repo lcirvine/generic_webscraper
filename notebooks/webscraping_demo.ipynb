{
 "cells": [
  {
   "cell_type": "markdown",
   "id": "special-commander",
   "metadata": {},
   "source": [
    "# Import Libraries "
   ]
  },
  {
   "cell_type": "code",
   "execution_count": null,
   "id": "above-palestinian",
   "metadata": {},
   "outputs": [],
   "source": [
    "from selenium import webdriver\n",
    "from bs4 import BeautifulSoup\n",
    "import pandas as pd\n",
    "import numpy as np"
   ]
  },
  {
   "cell_type": "markdown",
   "id": "conservative-julian",
   "metadata": {},
   "source": [
    "# Create Webdriver"
   ]
  },
  {
   "cell_type": "code",
   "execution_count": null,
   "id": "geological-european",
   "metadata": {},
   "outputs": [],
   "source": [
    "driver = webdriver.Firefox()"
   ]
  },
  {
   "cell_type": "markdown",
   "id": "representative-student",
   "metadata": {},
   "source": [
    "# Load the URL"
   ]
  },
  {
   "cell_type": "code",
   "execution_count": null,
   "id": "checked-companion",
   "metadata": {},
   "outputs": [],
   "source": [
    "url = 'https://live.euronext.com/en/products/fixed-income/esg-bonds'\n",
    "driver.get(url)"
   ]
  },
  {
   "cell_type": "markdown",
   "id": "literary-viking",
   "metadata": {},
   "source": [
    "# Parse HTML"
   ]
  },
  {
   "cell_type": "code",
   "execution_count": null,
   "id": "hired-america",
   "metadata": {},
   "outputs": [],
   "source": [
    "soup = BeautifulSoup(driver.page_source, 'html.parser')"
   ]
  },
  {
   "cell_type": "markdown",
   "id": "alien-pound",
   "metadata": {},
   "source": [
    "# Locate Table"
   ]
  },
  {
   "cell_type": "code",
   "execution_count": null,
   "id": "international-spice",
   "metadata": {},
   "outputs": [],
   "source": [
    "# if you do not know the table attributes or table number\n",
    "# run this section to print all the attributes for each 'table' element on the page\n",
    "\n",
    "for i, tbl in enumerate(soup.find_all('table')):\n",
    "    print(f\"{i} - {tbl.attrs}\")"
   ]
  },
  {
   "cell_type": "markdown",
   "id": "contrary-loading",
   "metadata": {},
   "source": [
    "# Scrape Table Data"
   ]
  },
  {
   "cell_type": "code",
   "execution_count": null,
   "id": "explicit-playback",
   "metadata": {},
   "outputs": [],
   "source": [
    "# find the first 'table' element\n",
    "table = soup.find('table')\n",
    "\n",
    "# find the 3rd 'table' element\n",
    "# tables = soup.find_all('table')\n",
    "# table = tables[2]\n",
    "\n",
    "# find a table with specific attributes\n",
    "# table = soup.find('table', attrs={'class': 'dataTable'})\n",
    "\n",
    "table_data = []\n",
    "\n",
    "# tables typically use 'tr' for table row and 'td' for table data or cell\n",
    "\n",
    "for row in table.find_all('tr'):\n",
    "    cells = [c.text.strip() for c in row.find_all('td')]\n",
    "    for link in row.find_all('a'):\n",
    "        cells.append(link['href'])\n",
    "    if len(cells) > 0:\n",
    "        table_data.append(cells)\n",
    "\n",
    "print(f\"{len(table_data)} rows found in webpage\")"
   ]
  },
  {
   "cell_type": "markdown",
   "id": "fixed-truth",
   "metadata": {},
   "source": [
    "# Create DataFrame"
   ]
  },
  {
   "cell_type": "code",
   "execution_count": null,
   "id": "acting-worship",
   "metadata": {},
   "outputs": [],
   "source": [
    "df = pd.DataFrame(table_data)\n",
    "df"
   ]
  },
  {
   "cell_type": "markdown",
   "id": "herbal-rebel",
   "metadata": {},
   "source": [
    "# Clean Up"
   ]
  },
  {
   "cell_type": "code",
   "execution_count": null,
   "id": "divided-fundamentals",
   "metadata": {},
   "outputs": [],
   "source": [
    "df.drop(axis=0, index=0, inplace=True)\n",
    "df"
   ]
  },
  {
   "cell_type": "code",
   "execution_count": null,
   "id": "unlimited-balance",
   "metadata": {},
   "outputs": [],
   "source": [
    "df.drop(columns=8, inplace=True)\n",
    "df"
   ]
  },
  {
   "cell_type": "markdown",
   "id": "seventh-girlfriend",
   "metadata": {},
   "source": [
    "# List Columns"
   ]
  },
  {
   "cell_type": "code",
   "execution_count": null,
   "id": "parental-complement",
   "metadata": {},
   "outputs": [],
   "source": [
    "# get columns from table headers (usuall element 'th')\n",
    "cols = [c.text.strip() for c in table.find_all('th')]\n",
    "\n",
    "# supply a list of column names \n",
    "# cols = ['column_1', 'column_2', 'column_3']\n",
    "\n",
    "cols"
   ]
  },
  {
   "cell_type": "code",
   "execution_count": null,
   "id": "political-longer",
   "metadata": {},
   "outputs": [],
   "source": [
    "cols = cols[:7]\n",
    "cols.extend(['Document Type', 'Document Link'])\n",
    "cols"
   ]
  },
  {
   "cell_type": "markdown",
   "id": "freelance-creek",
   "metadata": {},
   "source": [
    "# Add Columns to DataFrame"
   ]
  },
  {
   "cell_type": "code",
   "execution_count": null,
   "id": "silver-holiday",
   "metadata": {},
   "outputs": [],
   "source": [
    "# checking to make sure we have the same number of column names as columns in the table\n",
    "# then adding column names to the dataframe \n",
    "if len(cols) == len(df.columns):\n",
    "    df.columns = cols\n",
    "df"
   ]
  },
  {
   "cell_type": "markdown",
   "id": "central-fleece",
   "metadata": {},
   "source": [
    "# Formatting"
   ]
  },
  {
   "cell_type": "code",
   "execution_count": null,
   "id": "anticipated-mistress",
   "metadata": {},
   "outputs": [],
   "source": [
    "df['Listing Date'] = pd.to_datetime(df['Listing Date'], errors='coerce')\n",
    "df"
   ]
  },
  {
   "cell_type": "code",
   "execution_count": null,
   "id": "green-gamma",
   "metadata": {},
   "outputs": [],
   "source": [
    "df['Nom. (mm)'] = df['Nom. (mm)'].replace(',', '', regex=True)\n",
    "df['Nom. (mm)'] = df['Nom. (mm)'].replace('\\s', '', regex=True)\n",
    "df['Nom. (mm)'] = pd.to_numeric(df['Nom. (mm)'])\n",
    "df"
   ]
  },
  {
   "cell_type": "code",
   "execution_count": null,
   "id": "moved-webmaster",
   "metadata": {},
   "outputs": [],
   "source": [
    "df.loc[df['Document Type'] == 'Documents', 'Document Link'] = 'https://live.euronext.com/' + df['Document Link']\n",
    "df"
   ]
  },
  {
   "cell_type": "code",
   "execution_count": null,
   "id": "attached-entity",
   "metadata": {},
   "outputs": [],
   "source": [
    "df.drop(columns='Document Type', inplace=True)\n",
    "df"
   ]
  },
  {
   "cell_type": "markdown",
   "id": "compound-louisiana",
   "metadata": {},
   "source": [
    "# Save DataFrame"
   ]
  },
  {
   "cell_type": "code",
   "execution_count": null,
   "id": "personalized-lawsuit",
   "metadata": {},
   "outputs": [],
   "source": [
    "# data frames can be saved as many different formats\n",
    "# for example, we could also use df.to_excel() to save as an excel spreadsheet\n",
    "# saving the data here as a CSV\n",
    "\n",
    "file_name = 'Euronext ESG Webscraping Demo.csv'\n",
    "df.to_csv(file_name, index=False, encoding='utf-8-sig')"
   ]
  },
  {
   "cell_type": "markdown",
   "id": "gorgeous-video",
   "metadata": {},
   "source": [
    "# Closing Webdriver"
   ]
  },
  {
   "cell_type": "code",
   "execution_count": null,
   "id": "objective-treasure",
   "metadata": {},
   "outputs": [],
   "source": [
    "# do not forget to close the browser window!\n",
    "# this could be done at any time after we've parsed the data we need from the webpage\n",
    "\n",
    "driver.close()"
   ]
  }
 ],
 "metadata": {
  "kernelspec": {
   "display_name": "Python 3",
   "language": "python",
   "name": "python3"
  },
  "language_info": {
   "codemirror_mode": {
    "name": "ipython",
    "version": 3
   },
   "file_extension": ".py",
   "mimetype": "text/x-python",
   "name": "python",
   "nbconvert_exporter": "python",
   "pygments_lexer": "ipython3",
   "version": "3.7.3"
  },
  "varInspector": {
   "cols": {
    "lenName": 16,
    "lenType": 16,
    "lenVar": 40
   },
   "kernels_config": {
    "python": {
     "delete_cmd_postfix": "",
     "delete_cmd_prefix": "del ",
     "library": "var_list.py",
     "varRefreshCmd": "print(var_dic_list())"
    },
    "r": {
     "delete_cmd_postfix": ") ",
     "delete_cmd_prefix": "rm(",
     "library": "var_list.r",
     "varRefreshCmd": "cat(var_dic_list()) "
    }
   },
   "position": {
    "height": "455.844px",
    "left": "738px",
    "right": "20px",
    "top": "48px",
    "width": "800px"
   },
   "types_to_exclude": [
    "module",
    "function",
    "builtin_function_or_method",
    "instance",
    "_Feature"
   ],
   "window_display": false
  }
 },
 "nbformat": 4,
 "nbformat_minor": 5
}
